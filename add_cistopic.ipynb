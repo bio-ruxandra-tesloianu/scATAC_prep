{
 "cells": [
  {
   "cell_type": "markdown",
   "metadata": {},
   "source": [
    "# Dimensionality reduction with cisTopic\n",
    "\n",
    "Using inline R magic"
   ]
  },
  {
   "cell_type": "code",
   "execution_count": 46,
   "metadata": {},
   "outputs": [],
   "source": [
    "import numpy as np\n",
    "import scanpy as sc \n",
    "import pandas as pd\n",
    "import anndata"
   ]
  },
  {
   "cell_type": "markdown",
   "metadata": {},
   "source": [
    "### r2py set-up"
   ]
  },
  {
   "cell_type": "code",
   "execution_count": 2,
   "metadata": {},
   "outputs": [],
   "source": [
    "import rpy2.rinterface_lib.callbacks\n",
    "import logging"
   ]
  },
  {
   "cell_type": "code",
   "execution_count": 3,
   "metadata": {},
   "outputs": [],
   "source": [
    "# Ignore R warning messages\n",
    "#Note: this can be commented out to get more verbose R output\n",
    "rpy2.rinterface_lib.callbacks.logger.setLevel(logging.ERROR)"
   ]
  },
  {
   "cell_type": "markdown",
   "metadata": {},
   "source": [
    "I use `anndata2ri` to handle conversion of the sparse matrix (not too straightforward with `rpy2` alone)"
   ]
  },
  {
   "cell_type": "code",
   "execution_count": 4,
   "metadata": {},
   "outputs": [],
   "source": [
    "import anndata2ri\n",
    "anndata2ri.activate()"
   ]
  },
  {
   "cell_type": "markdown",
   "metadata": {},
   "source": [
    "Loading the `rpy2` extension enables cell magic to be used. This runs R code in jupyter notebook cells."
   ]
  },
  {
   "cell_type": "code",
   "execution_count": 5,
   "metadata": {},
   "outputs": [],
   "source": [
    "%load_ext rpy2.ipython"
   ]
  },
  {
   "cell_type": "code",
   "execution_count": 6,
   "metadata": {},
   "outputs": [],
   "source": [
    "%%R\n",
    "## Install dependencies\n",
    "# devtools::install_github(\"aertslab/RcisTarget\")\n",
    "# devtools::install_github(\"aertslab/AUCell\")\n",
    "        \n",
    "# devtools::install_github(\"aertslab/cisTopic\")\n",
    "library(cisTopic)\n",
    "library(Matrix)"
   ]
  },
  {
   "cell_type": "markdown",
   "metadata": {},
   "source": [
    "### Load data"
   ]
  },
  {
   "cell_type": "code",
   "execution_count": 7,
   "metadata": {},
   "outputs": [],
   "source": [
    "outdir = \"/home/jovyan/data/lung_adult_scATAC/\"\n",
    "experiment_prefix = 'lungAdult_'"
   ]
  },
  {
   "cell_type": "code",
   "execution_count": 8,
   "metadata": {},
   "outputs": [],
   "source": [
    "adata = sc.read_h5ad(outdir + experiment_prefix + '_ATAC_raw.h5ad')"
   ]
  },
  {
   "cell_type": "markdown",
   "metadata": {},
   "source": [
    "### Set-up for cisTopic"
   ]
  },
  {
   "cell_type": "code",
   "execution_count": 9,
   "metadata": {},
   "outputs": [
    {
     "name": "stderr",
     "output_type": "stream",
     "text": [
      "/home/jovyan/my-conda-envs/emma_env/lib/python3.7/site-packages/anndata/_core/anndata.py:1094: FutureWarning: is_categorical is deprecated and will be removed in a future version.  Use is_categorical_dtype instead\n",
      "  if not is_categorical(df_full[k]):\n"
     ]
    }
   ],
   "source": [
    "# (Trying just on a subset to test the code quickly)\n",
    "# Don't run this on your data\n",
    "adata = adata[0:5000, 0:10000]"
   ]
  },
  {
   "cell_type": "markdown",
   "metadata": {},
   "source": [
    "Remove empty rows"
   ]
  },
  {
   "cell_type": "code",
   "execution_count": 10,
   "metadata": {},
   "outputs": [],
   "source": [
    "adata = adata[:,adata.X.sum(0) > 0]"
   ]
  },
  {
   "cell_type": "code",
   "execution_count": 11,
   "metadata": {},
   "outputs": [
    {
     "data": {
      "text/plain": [
       "View of AnnData object with n_obs × n_vars = 5000 × 9996\n",
       "    obs: 'cellatac_clusters'\n",
       "    var: 'peak_width', 'exon', 'gene', 'promoter', 'annotation', 'gene_name', 'gene_id', 'tss_distance', 'ENCODE_blacklist', 'n_cells_by_counts', 'mean_counts', 'log1p_mean_counts', 'pct_dropout_by_counts', 'total_counts', 'log1p_total_counts'\n",
       "    layers: 'binary_raw'"
      ]
     },
     "execution_count": 11,
     "metadata": {},
     "output_type": "execute_result"
    }
   ],
   "source": [
    "adata"
   ]
  },
  {
   "cell_type": "markdown",
   "metadata": {},
   "source": [
    "Convert `anndata` object to `SingleCellExperiment` (conversion cab take a while)"
   ]
  },
  {
   "cell_type": "code",
   "execution_count": 12,
   "metadata": {},
   "outputs": [],
   "source": [
    "# adata.X = adata.layers[\"binary_raw\"]"
   ]
  },
  {
   "cell_type": "code",
   "execution_count": 13,
   "metadata": {},
   "outputs": [],
   "source": [
    "# adata.obs[\"cellatac_clusters\"] = adata.obs[\"cellatac_clusters\"].astype(\"int\")"
   ]
  },
  {
   "cell_type": "code",
   "execution_count": 14,
   "metadata": {},
   "outputs": [
    {
     "name": "stdout",
     "output_type": "stream",
     "text": [
      "class: SingleCellExperiment \n",
      "dim: 9996 5000 \n",
      "metadata(0):\n",
      "assays(2): X binary_raw\n",
      "rownames(9996): chr1:816942-817444 chr1:826600-827805 ...\n",
      "  chr2:20113608-20114509 chr2:20129012-20130053\n",
      "rowData names(15): peak_width exon ... total_counts log1p_total_counts\n",
      "colnames(5000): 59-AAACGAAAGATATGAC-1 59-AAACGAAAGGTAGGAA-1 ...\n",
      "  59-GTGGATTGTACCAAGG-1 59-GTGGATTGTAGTGATA-1\n",
      "colData names(1): cellatac_clusters\n",
      "reducedDimNames(0):\n",
      "spikeNames(0):\n",
      "altExpNames(0):\n"
     ]
    }
   ],
   "source": [
    "%%R -i adata\n",
    "adata"
   ]
  },
  {
   "cell_type": "markdown",
   "metadata": {},
   "source": [
    "### Train cisTopic models"
   ]
  },
  {
   "cell_type": "code",
   "execution_count": 15,
   "metadata": {},
   "outputs": [
    {
     "name": "stdout",
     "output_type": "stream",
     "text": [
      "An object of class cisTopic in project ATAC_cisTopic \n",
      " 9996 regions across 5000 samples.\n"
     ]
    }
   ],
   "source": [
    "%%R \n",
    "\n",
    "# Initialize cisTopic object \n",
    "cisTopicObject <- createcisTopicObject(\n",
    "    assay(adata, \"X\"),\n",
    "    project.name='ATAC_cisTopic')\n",
    "\n",
    "cisTopicObject"
   ]
  },
  {
   "cell_type": "code",
   "execution_count": 16,
   "metadata": {},
   "outputs": [
    {
     "name": "stdout",
     "output_type": "stream",
     "text": [
      "INFO  [15:33:03.389] early stopping at 275 iteration \n",
      "INFO  [15:33:10.165] early stopping at 50 iteration \n"
     ]
    }
   ],
   "source": [
    "%%R -i outdir -i experiment_prefix\n",
    "## Run models (updated to cisTopic v3) ##\n",
    "# topics_vec <- c(30:50, 60, 70, 80, 90, 100)\n",
    "topics_vec <- c(30)\n",
    "cisTopicObject <- runWarpLDAModels(cisTopicObject, topic=topics_vec, \n",
    "                                   seed=42, \n",
    "                                   nCores=5, \n",
    "                                   iterations = 500\n",
    "                                  )\n",
    "\n",
    "## Save trained models\n",
    "saveRDS(cisTopicObject, paste0(outdir, experiment_prefix, \"ATAC.trainedCistopic.RDS\"))"
   ]
  },
  {
   "cell_type": "code",
   "execution_count": 16,
   "metadata": {},
   "outputs": [],
   "source": [
    "%%R -i outdir -i experiment_prefix\n",
    "cisTopicObject <- readRDS(paste0(outdir, experiment_prefix, \"ATAC.trainedCistopic.RDS\"))"
   ]
  },
  {
   "cell_type": "code",
   "execution_count": 17,
   "metadata": {},
   "outputs": [
    {
     "data": {
      "image/png": "[encoded data removed]"
     },
     "metadata": {},
     "output_type": "display_data"
    },
    {
     "data": {
      "image/png": "[encoded data removed]"
     },
     "metadata": {},
     "output_type": "display_data"
    }
   ],
   "source": [
    "%%R\n",
    "\n",
    "## Select model ##\n",
    "cistopic_model <- selectModel(cisTopicObject, type=\"maximum\")"
   ]
  },
  {
   "cell_type": "code",
   "execution_count": 18,
   "metadata": {},
   "outputs": [
    {
     "name": "stdout",
     "output_type": "stream",
     "text": [
      "[1]   30 5000\n"
     ]
    }
   ],
   "source": [
    "%%R -o topicXcell\n",
    "## Save topic matrix ##\n",
    "topicXcell <- modelMatSelection(cistopic_model, 'cell', 'Probability')\n",
    "\n",
    "dim(topicXcell)"
   ]
  },
  {
   "cell_type": "code",
   "execution_count": 19,
   "metadata": {},
   "outputs": [],
   "source": [
    "adata.obsm['X_cistopic'] = topicXcell.T"
   ]
  },
  {
   "cell_type": "markdown",
   "metadata": {},
   "source": [
    "### Visualize dim reduction results"
   ]
  },
  {
   "cell_type": "code",
   "execution_count": 20,
   "metadata": {},
   "outputs": [],
   "source": [
    "sc.pp.neighbors(adata, n_neighbors=10, use_rep=\"X_cistopic\")"
   ]
  },
  {
   "cell_type": "code",
   "execution_count": 21,
   "metadata": {},
   "outputs": [],
   "source": [
    "sc.tl.umap(adata)"
   ]
  },
  {
   "cell_type": "code",
   "execution_count": 22,
   "metadata": {},
   "outputs": [
    {
     "data": {
      "image/png": "[encoded data removed]",
      "text/plain": [
       "<Figure size 432x288 with 1 Axes>"
      ]
     },
     "metadata": {},
     "output_type": "display_data"
    }
   ],
   "source": [
    "adata.obs[\"cellatac_clusters\"] = adata.obs[\"cellatac_clusters\"].astype(\"category\")\n",
    "sc.pl.umap(adata, color=\"cellatac_clusters\")"
   ]
  },
  {
   "cell_type": "markdown",
   "metadata": {},
   "source": [
    "### De-noising the peak x cell matrix with cisTopic\n",
    "\n",
    "The learnt LDA model from cisTopic can be used to generate a de-noised accessibility matrix. From the [paper](https://www.nature.com/articles/s41592-019-0367-1):\n",
    "\n",
    "> cisTopic calculates the predictive distribution, which describes\n",
    "the probability of each region in each cell, by multiplying the topic–cell and the\n",
    "region–topic distributions:\n",
    "$$\n",
    "P(r_i|c_j) = \\sum_{k=1}^{K}{P(r_i|T_k)P(T_k|c_j)}\n",
    "$$\n",
    "where\n",
    "> - $P(r_i | c_j)$ is the probability of region i in cell j,\n",
    "> - $P(r_i | T_k)$ is the probability of region i in topic k, and\n",
    "> - $P(T_k | c_j)$ is the probability of topic k in cell j.\n"
   ]
  },
  {
   "cell_type": "markdown",
   "metadata": {},
   "source": [
    "Export the region x topic probability matrix"
   ]
  },
  {
   "cell_type": "code",
   "execution_count": 23,
   "metadata": {},
   "outputs": [],
   "source": [
    "%%R -o p_mat\n",
    "p_mat <- predictiveDistribution(cistopic_model)"
   ]
  },
  {
   "cell_type": "code",
   "execution_count": 24,
   "metadata": {},
   "outputs": [],
   "source": [
    "adata.layers[\"cistopic_p\"] = p_mat.T"
   ]
  },
  {
   "cell_type": "markdown",
   "metadata": {},
   "source": [
    "### Calculate de-noised gene scores\n",
    "\n",
    "The de-noised accessibility signal can be used to calculate a gene-level accessibility scores (first implemented in [Bravo Gonzales-Blas et al. 2020](https://www.embopress.org/doi/full/10.15252/msb.20209438)). This is very useful to check out accessibility of marker genes for example. From the paper:\n",
    "\n",
    "> we first multiply the region‐topic and topic‐cell distributions to obtain a region‐cell distribution, which indicates the probability of accessibility of each region in each cell. Then, for each gene, we aggregate the probabilities of the surrounding regions (in this case, 5 kb around the TSS plus introns), resulting in a gene activity score\n",
    "\n",
    "At the moment there is no specific function in cisTopic to do this, but here is a simple implementation using functionality in `GenomicRanges` and `Signac`. Here I use peaks within a 5kb window of a gene (`d` parameter)"
   ]
  },
  {
   "cell_type": "code",
   "execution_count": 30,
   "metadata": {},
   "outputs": [],
   "source": [
    "%%R \n",
    "library(GenomicRanges)\n",
    "library(ensembldb)\n",
    "library(EnsDb.Hsapiens.v86)\n",
    "library(tidyr)\n",
    "# library(Signac)"
   ]
  },
  {
   "cell_type": "code",
   "execution_count": 31,
   "metadata": {},
   "outputs": [],
   "source": [
    "%%R\n",
    "## String - GRanges conversion\n",
    "## Borrowed from Signac functions \n",
    "## https://satijalab.org/signac/reference/GRangesToString.html\n",
    "StringToGRanges <- function(regions, sep = c(\"-\", \"-\"), ...) {\n",
    "  ranges.df <- data.frame(ranges = regions)\n",
    "  ranges.df <- separate(\n",
    "    data = ranges.df,\n",
    "    col = \"ranges\",\n",
    "    sep = paste0(sep[[1]], \"|\", sep[[2]]),\n",
    "    into = c(\"chr\", \"start\", \"end\")\n",
    "  )\n",
    "  granges <- makeGRangesFromDataFrame(df = ranges.df, ...)\n",
    "  return(granges)\n",
    "}\n",
    "\n",
    "GRangesToString <- function(grange, sep = c(\"-\", \"-\")) {\n",
    "  regions <- paste0(\n",
    "    as.character(x = seqnames(x = grange)),\n",
    "    sep[[1]],\n",
    "    start(x = grange),\n",
    "    sep[[2]],\n",
    "    end(x = grange)\n",
    "  )\n",
    "  return(regions)\n",
    "}\n",
    "\n",
    "# Extend genomicRanges\n",
    "# \n",
    "extend <- function(x, upstream=0, downstream=0)     \n",
    "{\n",
    "    if (any(strand(x) == \"*\"))\n",
    "        warning(\"'*' ranges were treated as '+'\")\n",
    "    on_plus <- strand(x) == \"+\" | strand(x) == \"*\"\n",
    "    new_start <- start(x) - ifelse(on_plus, upstream, downstream)\n",
    "    new_end <- end(x) + ifelse(on_plus, downstream, upstream)\n",
    "    ranges(x) <- IRanges(new_start, new_end)\n",
    "    trim(x)\n",
    "}\n",
    "\n",
    "\n",
    "# Find peaks close to features of interest\n",
    "#\n",
    "# @param peaks_gr GenomicRanges object containing peaks\n",
    "# @param features_gr GenomicRanges object containing features (e.g. genes)\n",
    "# @param d distance to include peak, in bps (default 50000)\n",
    "# @param feat_anno column in `features_gr@elementMetadata` containing annotation to name features (if NULL converts Granges to string)\n",
    "#\n",
    "# @return Sparse adjacency matrix indicating hits\n",
    "peak2feature <- function(peaks_gr, features_gr, d=50000, feat_anno=NULL){\n",
    "  seqlevelsStyle(features_gr) <- seqlevelsStyle(peaks_gr)\n",
    "  \n",
    "  ## Find peaks overlapping the search range around the features\n",
    "  ext_gr <- extend(features_gr, upstream = d, downstream = d)\n",
    "  ovs <- findOverlaps(peaks_gr, ext_gr)\n",
    "  \n",
    "  ## Define identifiers for peaks and features\n",
    "  all_peaks <- GRangesToString(peaks_gr, sep = c(\":\", '-'))\n",
    "  if (is.null(feat_anno)) {\n",
    "    all_feats <- GRangesToString(features_gr, sep = c(\":\", '-'))\n",
    "  } else {\n",
    "    all_feats <- features_gr@elementMetadata[[feat_anno]]\n",
    "  }\n",
    "  \n",
    "  ## Build adjacency matrix for hits\n",
    "  adj_mat <- Matrix(data=0, nrow = length(all_peaks), ncol=length(all_feats))\n",
    "  for (i in unique(subjectHits(ovs))) {\n",
    "    # if (length(adj_mat[queryHits(ovs[subjectHits(ovs)==i]),i]) > 0) {\n",
    "    adj_mat[queryHits(ovs[subjectHits(ovs)==i]),i] <- 1\n",
    "    # }\n",
    "  }\n",
    "  colnames(adj_mat) <- all_feats\n",
    "  rownames(adj_mat) <- all_peaks\n",
    "  \n",
    "  adj_mat\n",
    "  \n",
    "}"
   ]
  },
  {
   "cell_type": "code",
   "execution_count": 32,
   "metadata": {},
   "outputs": [],
   "source": [
    "%%R\n",
    "genes_gr <- genes(EnsDb.Hsapiens.v86)\n",
    "peaks_gr <- StringToGRanges(rownames(p_mat), sep=c(\":\", \"-\"))"
   ]
  },
  {
   "cell_type": "code",
   "execution_count": 34,
   "metadata": {},
   "outputs": [],
   "source": [
    "%%R -o gene_mat\n",
    "## Compute peak2gene adjacency matrix\n",
    "adj_mat <- peak2feature(peaks_gr, genes_gr, feat_anno = \"gene_id\", d=5000)\n",
    "# Filter genes with at least 3 peaks in the proximity\n",
    "keep.genes <- which(colSums(adj_mat) > 2) \n",
    "gene_mat <- t(adj_mat[,keep.genes]) %*% p_mat\n",
    "gene_mat <- as.matrix(t(gene_mat))"
   ]
  },
  {
   "cell_type": "code",
   "execution_count": 67,
   "metadata": {},
   "outputs": [],
   "source": [
    "%%R -o gene_var\n",
    "genes <- colnames(gene_mat)\n",
    "gene_var <- genes_gr[genes,]@elementMetadata[c(\"gene_id\",\"gene_name\")]"
   ]
  },
  {
   "cell_type": "markdown",
   "metadata": {},
   "source": [
    "Then you can save another anndata object with the same `.obs` as the original one, but storing the gene score info."
   ]
  },
  {
   "cell_type": "code",
   "execution_count": 76,
   "metadata": {},
   "outputs": [
    {
     "data": {
      "text/plain": [
       "AnnData object with n_obs × n_vars = 5000 × 1523\n",
       "    obs: 'cellatac_clusters'\n",
       "    var: 'gene_id', 'gene_name'"
      ]
     },
     "execution_count": 76,
     "metadata": {},
     "output_type": "execute_result"
    }
   ],
   "source": [
    "gene_adata = anndata.AnnData(X=gene_mat, \n",
    "                             obs=adata.obs, \n",
    "                             var=gene_var)\n",
    "gene_adata.var_names = gene_adata.var[\"gene_id\"]\n",
    "gene_adata"
   ]
  },
  {
   "cell_type": "markdown",
   "metadata": {},
   "source": [
    "### Save anndata objects"
   ]
  },
  {
   "cell_type": "code",
   "execution_count": 101,
   "metadata": {},
   "outputs": [],
   "source": [
    "gene_adata.write_h5ad(outdir + experiment_prefix + \"_ATAC.geneScores.h5ad\")\n",
    "adata.write_h5ad(outdir + experiment_prefix + \"_ATAC.wCisTopic.h5ad\")"
   ]
  }
 ],
 "metadata": {
  "kernelspec": {
   "display_name": "Python (emma_env)",
   "language": "python",
   "name": "emma_env"
  },
  "language_info": {
   "codemirror_mode": {
    "name": "ipython",
    "version": 3
   },
   "file_extension": ".py",
   "mimetype": "text/x-python",
   "name": "python",
   "nbconvert_exporter": "python",
   "pygments_lexer": "ipython3",
   "version": "3.7.8"
  }
 },
 "nbformat": 4,
 "nbformat_minor": 4
}
