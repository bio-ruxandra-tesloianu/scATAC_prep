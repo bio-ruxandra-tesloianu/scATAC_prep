{
 "cells": [
  {
   "cell_type": "markdown",
   "metadata": {},
   "source": [
    "## Build anndata from `cellatac` output\n",
    "\n",
    "In this notebook we put together the many outputs of the [cellatac pipeline](https://github.com/cellgeni/cellatac) for peak calling in scATAC-seq data into one handy anndata object, we do some important peak filtering"
   ]
  },
  {
   "cell_type": "code",
   "execution_count": 2,
   "metadata": {},
   "outputs": [],
   "source": [
    "import pandas as pd \n",
    "import scanpy as sc\n",
    "import numpy as np\n",
    "import scipy.sparse"
   ]
  },
  {
   "cell_type": "code",
   "execution_count": 3,
   "metadata": {},
   "outputs": [],
   "source": [
    "outdir = \"/home/jovyan/data/lung_adult_scATAC/\"\n",
    "experiment_prefix = 'lungAdult_'\n",
    "cellatac_outdir = '/warehouse/cellgeni/tic-619/results400k-627-13samples/'"
   ]
  },
  {
   "cell_type": "code",
   "execution_count": 8,
   "metadata": {},
   "outputs": [],
   "source": [
    "input={'cnts': cellatac_outdir + 'peak_matrix/peaks_bc_matrix.mmtx.gz',\n",
    "        \"bcs\": cellatac_outdir + 'peak_matrix/bc.txt',\n",
    "      \"peaks\": cellatac_outdir + 'peak_matrix/peaks.txt',\n",
    "      'clusters': cellatac_outdir + 'qc/seurat-clades.tsv'}\n",
    "\n",
    "output = {\n",
    "    \"cnt_mmtx\":outdir + experiment_prefix + '_ATAC_cisTopic.mmtx',\n",
    "    \"cnt_peaks\":outdir + experiment_prefix + '_ATAC_cisTopic.peaks.tsv',\n",
    "    \"cnt_cells\":outdir + experiment_prefix + '_ATAC_cisTopic.cells.tsv',\n",
    "    \"h5ad\":outdir + experiment_prefix + '_ATAC_raw.h5ad',\n",
    "}"
   ]
  },
  {
   "cell_type": "markdown",
   "metadata": {},
   "source": [
    "### Make anndata object"
   ]
  },
  {
   "cell_type": "code",
   "execution_count": 33,
   "metadata": {},
   "outputs": [],
   "source": [
    "adata = sc.read_mtx(input[\"cnts\"]).T"
   ]
  },
  {
   "cell_type": "code",
   "execution_count": 37,
   "metadata": {},
   "outputs": [],
   "source": [
    "bc = pd.read_table(input[\"bcs\"], header=None)\n",
    "feat = pd.read_table(input[\"peaks\"], header=None)"
   ]
  },
  {
   "cell_type": "code",
   "execution_count": 38,
   "metadata": {},
   "outputs": [],
   "source": [
    "adata.obs_names = bc[0]\n",
    "adata.var_names = feat[0]"
   ]
  },
  {
   "cell_type": "code",
   "execution_count": 40,
   "metadata": {},
   "outputs": [
    {
     "data": {
      "text/plain": [
       "Index(['59-AAACGAAAGATATGAC-1', '59-AAACGAAAGGTAGGAA-1',\n",
       "       '59-AAACGAAAGGTTTCTG-1', '59-AAACGAAAGTCATCTG-1',\n",
       "       '59-AAACGAAAGTTAGCGG-1', '59-AAACGAAAGTTGACAA-1',\n",
       "       '59-AAACGAACACACATGT-1', '59-AAACGAACACCACGAC-1',\n",
       "       '59-AAACGAACATCCCAAA-1', '59-AAACGAAGTATTCGAC-1',\n",
       "       ...\n",
       "       '04-TTTGTGTAGGTAGGCT-1', '04-TTTGTGTCACTCGTGG-1',\n",
       "       '04-TTTGTGTCAGGTGTGA-1', '04-TTTGTGTCATGATCGT-1',\n",
       "       '04-TTTGTGTCATGCACTA-1', '04-TTTGTGTGTTAGAGAT-1',\n",
       "       '04-TTTGTGTGTTTGACCA-1', '04-TTTGTGTTCAGGGTTT-1',\n",
       "       '04-TTTGTGTTCGGATAGG-1', '04-TTTGTGTTCTCGTAGA-1'],\n",
       "      dtype='object', length=57992)"
      ]
     },
     "execution_count": 40,
     "metadata": {},
     "output_type": "execute_result"
    }
   ],
   "source": [
    "adata.obs_names"
   ]
  },
  {
   "cell_type": "code",
   "execution_count": 41,
   "metadata": {},
   "outputs": [],
   "source": [
    "peak_anno_df = pd.read_csv(outdir + \"ATACpeaks_annotation.csv\", index_col=0)\n",
    "peak_anno_df.index = peak_anno_df[\"peak_id\"]\n",
    "peak_anno_df.drop(\"peak_id\",1, inplace=True)\n",
    "adata.var = pd.concat([adata.var, peak_anno_df], 1)"
   ]
  },
  {
   "cell_type": "code",
   "execution_count": 42,
   "metadata": {},
   "outputs": [],
   "source": [
    "## Save binary data to layers\n",
    "adata.layers[\"binary_raw\"] = adata.X\n",
    "adata.layers[\"binary_raw\"][adata.layers[\"binary_raw\"] > 1] = 1"
   ]
  },
  {
   "cell_type": "code",
   "execution_count": 43,
   "metadata": {},
   "outputs": [],
   "source": [
    "params={'k':30, \"width\":210}"
   ]
  },
  {
   "cell_type": "code",
   "execution_count": 44,
   "metadata": {},
   "outputs": [
    {
     "name": "stderr",
     "output_type": "stream",
     "text": [
      "/home/jovyan/my-conda-envs/emma_env/lib/python3.7/site-packages/anndata/_core/anndata.py:1094: FutureWarning: is_categorical is deprecated and will be removed in a future version.  Use is_categorical_dtype instead\n",
      "  if not is_categorical(df_full[k]):\n",
      "/home/jovyan/my-conda-envs/emma_env/lib/python3.7/site-packages/anndata/_core/anndata.py:1094: FutureWarning: is_categorical is deprecated and will be removed in a future version.  Use is_categorical_dtype instead\n",
      "  if not is_categorical(df_full[k]):\n",
      "/home/jovyan/my-conda-envs/emma_env/lib/python3.7/site-packages/anndata/_core/anndata.py:1094: FutureWarning: is_categorical is deprecated and will be removed in a future version.  Use is_categorical_dtype instead\n",
      "  if not is_categorical(df_full[k]):\n"
     ]
    }
   ],
   "source": [
    "### Initial peak filtering\n",
    "var_qc = sc.pp.calculate_qc_metrics(adata, layer=\"binary_raw\")[1]\n",
    "adata.var = pd.concat([adata.var, var_qc], 1)\n",
    "# Accessible in at least k cells\n",
    "adata = adata[:,adata.var.total_counts > params['k']] \n",
    "# Remove peaks in ENCODE blacklist\n",
    "adata = adata[:, adata.var.ENCODE_blacklist==0] \n",
    "# Filter by width (remove peaks at the lowest end, closest to min peak width in MACS2)\n",
    "adata = adata[:, adata.var.peak_width > params['width']] "
   ]
  },
  {
   "cell_type": "code",
   "execution_count": 45,
   "metadata": {},
   "outputs": [
    {
     "data": {
      "text/plain": [
       "View of AnnData object with n_obs × n_vars = 57992 × 372301\n",
       "    var: 'peak_width', 'exon', 'gene', 'promoter', 'annotation', 'gene_name', 'gene_id', 'tss_distance', 'ENCODE_blacklist', 'n_cells_by_counts', 'mean_counts', 'log1p_mean_counts', 'pct_dropout_by_counts', 'total_counts', 'log1p_total_counts'\n",
       "    layers: 'binary_raw'"
      ]
     },
     "execution_count": 45,
     "metadata": {},
     "output_type": "execute_result"
    }
   ],
   "source": [
    "adata"
   ]
  },
  {
   "cell_type": "code",
   "execution_count": 177,
   "metadata": {},
   "outputs": [],
   "source": [
    "### Filter peaks that are not accessible in at least 10% of cells from a coarse cluster\n",
    "min_frac=0.1\n",
    "# Load cluster information from cellatac outputs\n",
    "clusters = pd.read_table(input[\"clusters\"], header=None, index_col=0)\n",
    "clusters.columns = [\"cellatac_clusters\"]"
   ]
  },
  {
   "cell_type": "code",
   "execution_count": 60,
   "metadata": {},
   "outputs": [],
   "source": [
    "adata.obs = clusters.loc[adata.obs_names]"
   ]
  },
  {
   "cell_type": "code",
   "execution_count": 133,
   "metadata": {},
   "outputs": [],
   "source": [
    "n_clusters = len(np.unique(adata.obs[[\"cellatac_clusters\"]]))\n",
    "clus_mat = np.empty([adata.n_obs, n_clusters])\n",
    "for cl in np.unique(adata.obs[[\"cellatac_clusters\"]]):\n",
    "    clus_mat[np.where(adata.obs['cellatac_clusters']==cl)[0],cl] = 1\n",
    "\n",
    "clus_mat = scipy.sparse.csr_matrix(clus_mat)\n",
    "\n",
    "clus_mat[clus_mat!=1] = 0"
   ]
  },
  {
   "cell_type": "code",
   "execution_count": 140,
   "metadata": {},
   "outputs": [],
   "source": [
    "cl_peak_mat = np.dot(clus_mat.T, adata.layers[\"binary_raw\"])"
   ]
  },
  {
   "cell_type": "code",
   "execution_count": 178,
   "metadata": {},
   "outputs": [],
   "source": [
    "cl_peak_frac = cl_peak_mat/clus_mat.sum(0).T"
   ]
  },
  {
   "cell_type": "code",
   "execution_count": 181,
   "metadata": {},
   "outputs": [],
   "source": [
    "adata = adata[:, cl_peak_frac.max(0) > min_frac]"
   ]
  },
  {
   "cell_type": "code",
   "execution_count": 6,
   "metadata": {},
   "outputs": [
    {
     "data": {
      "text/plain": [
       "AnnData object with n_obs × n_vars = 57992 × 96161\n",
       "    obs: 'cellatac_clusters'\n",
       "    var: 'peak_width', 'exon', 'gene', 'promoter', 'annotation', 'gene_name', 'gene_id', 'tss_distance', 'ENCODE_blacklist', 'n_cells_by_counts', 'mean_counts', 'log1p_mean_counts', 'pct_dropout_by_counts', 'total_counts', 'log1p_total_counts'\n",
       "    layers: 'binary_raw'"
      ]
     },
     "execution_count": 6,
     "metadata": {},
     "output_type": "execute_result"
    }
   ],
   "source": [
    "adata"
   ]
  },
  {
   "cell_type": "code",
   "execution_count": 186,
   "metadata": {},
   "outputs": [
    {
     "name": "stderr",
     "output_type": "stream",
     "text": [
      "/home/jovyan/my-conda-envs/emma_env/lib/python3.7/site-packages/anndata/_core/anndata.py:1192: FutureWarning: is_categorical is deprecated and will be removed in a future version.  Use is_categorical_dtype instead\n",
      "  if is_string_dtype(df[key]) and not is_categorical(df[key])\n",
      "/home/jovyan/my-conda-envs/emma_env/lib/python3.7/site-packages/anndata/_core/anndata.py:1210: ImplicitModificationWarning: Initializing view as actual.\n",
      "  \"Initializing view as actual.\", ImplicitModificationWarning\n",
      "Trying to set attribute `.var` of view, copying.\n",
      "... storing 'annotation' as categorical\n",
      "Trying to set attribute `.var` of view, copying.\n",
      "... storing 'gene_name' as categorical\n",
      "Trying to set attribute `.var` of view, copying.\n",
      "... storing 'gene_id' as categorical\n"
     ]
    }
   ],
   "source": [
    "## Write output anndata\n",
    "adata.write_h5ad(output[\"h5ad\"])"
   ]
  }
 ],
 "metadata": {
  "kernelspec": {
   "display_name": "Python (emma_env)",
   "language": "python",
   "name": "emma_env"
  },
  "language_info": {
   "codemirror_mode": {
    "name": "ipython",
    "version": 3
   },
   "file_extension": ".py",
   "mimetype": "text/x-python",
   "name": "python",
   "nbconvert_exporter": "python",
   "pygments_lexer": "ipython3",
   "version": "3.7.8"
  }
 },
 "nbformat": 4,
 "nbformat_minor": 4
}
