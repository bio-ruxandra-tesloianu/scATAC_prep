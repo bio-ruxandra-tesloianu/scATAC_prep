{
 "cells": [
  {
   "cell_type": "markdown",
   "metadata": {},
   "source": [
    "# Matching genes to proximal peaks\n",
    "\n",
    "A common approach to start peak - gene correlation analysis is to find all peaks within 50kb of a gene. Here we build an adjacency matrix matching peak to genes."
   ]
  },
  {
   "cell_type": "code",
   "execution_count": null,
   "metadata": {},
   "outputs": [],
   "source": [
    "import numpy as np\n",
    "import scanpy as sc \n",
    "import pandas as pd\n",
    "import anndata\n",
    "import anndata2ri ## For sparse matrix conversion from r 2 py"
   ]
  },
  {
   "cell_type": "markdown",
   "metadata": {},
   "source": [
    "#### r2py set-up"
   ]
  },
  {
   "cell_type": "code",
   "execution_count": null,
   "metadata": {},
   "outputs": [],
   "source": [
    "import rpy2.rinterface_lib.callbacks\n",
    "import logging"
   ]
  },
  {
   "cell_type": "code",
   "execution_count": null,
   "metadata": {},
   "outputs": [],
   "source": [
    "# Ignore R warning messages\n",
    "#Note: this can be commented out to get more verbose R output\n",
    "rpy2.rinterface_lib.callbacks.logger.setLevel(logging.ERROR)"
   ]
  },
  {
   "cell_type": "markdown",
   "metadata": {},
   "source": [
    "Loading the `rpy2` extension enables cell magic to be used. This runs R code in jupyter notebook cells."
   ]
  },
  {
   "cell_type": "code",
   "execution_count": null,
   "metadata": {},
   "outputs": [],
   "source": [
    "%load_ext rpy2.ipython"
   ]
  },
  {
   "cell_type": "markdown",
   "metadata": {},
   "source": [
    "### Load data"
   ]
  },
  {
   "cell_type": "code",
   "execution_count": null,
   "metadata": {},
   "outputs": [],
   "source": [
    "outdir = \"/home/jovyan/data/lung_adult_scATAC/\"\n",
    "experiment_prefix = 'lungAdult_'"
   ]
  },
  {
   "cell_type": "code",
   "execution_count": null,
   "metadata": {},
   "outputs": [],
   "source": [
    "adata = sc.read_h5ad(outdir + experiment_prefix + \"_ATAC.wCisTopic.h5ad\")"
   ]
  },
  {
   "cell_type": "code",
   "execution_count": null,
   "metadata": {},
   "outputs": [],
   "source": [
    "peaks = adata.var_names"
   ]
  },
  {
   "cell_type": "markdown",
   "metadata": {},
   "source": [
    "### Match peaks 2 genes"
   ]
  },
  {
   "cell_type": "code",
   "execution_count": null,
   "metadata": {},
   "outputs": [],
   "source": [
    "%%R \n",
    "library(Matrix)\n",
    "library(GenomicRanges)\n",
    "library(ensembldb)\n",
    "library(EnsDb.Hsapiens.v86) ## Remember to pick your genome!\n",
    "library(tidyr)\n",
    "# library(Signac)"
   ]
  },
  {
   "cell_type": "code",
   "execution_count": null,
   "metadata": {},
   "outputs": [],
   "source": [
    "%%R\n",
    "## String - GRanges conversion\n",
    "## Borrowed from Signac functions \n",
    "## https://satijalab.org/signac/reference/GRangesToString.html\n",
    "StringToGRanges <- function(regions, sep = c(\"-\", \"-\"), ...) {\n",
    "  ranges.df <- data.frame(ranges = regions)\n",
    "  ranges.df <- separate(\n",
    "    data = ranges.df,\n",
    "    col = \"ranges\",\n",
    "    sep = paste0(sep[[1]], \"|\", sep[[2]]),\n",
    "    into = c(\"chr\", \"start\", \"end\")\n",
    "  )\n",
    "  granges <- makeGRangesFromDataFrame(df = ranges.df, ...)\n",
    "  return(granges)\n",
    "}\n",
    "\n",
    "GRangesToString <- function(grange, sep = c(\"-\", \"-\")) {\n",
    "  regions <- paste0(\n",
    "    as.character(x = seqnames(x = grange)),\n",
    "    sep[[1]],\n",
    "    start(x = grange),\n",
    "    sep[[2]],\n",
    "    end(x = grange)\n",
    "  )\n",
    "  return(regions)\n",
    "}\n",
    "\n",
    "# Extend genomicRanges\n",
    "# \n",
    "extend <- function(x, upstream=0, downstream=0)     \n",
    "{\n",
    "    if (any(strand(x) == \"*\"))\n",
    "        warning(\"'*' ranges were treated as '+'\")\n",
    "    on_plus <- strand(x) == \"+\" | strand(x) == \"*\"\n",
    "    new_start <- start(x) - ifelse(on_plus, upstream, downstream)\n",
    "    new_end <- end(x) + ifelse(on_plus, downstream, upstream)\n",
    "    ranges(x) <- IRanges(new_start, new_end)\n",
    "    trim(x)\n",
    "}\n",
    "\n",
    "\n",
    "# Find peaks close to features of interest\n",
    "#\n",
    "# @param peaks_gr GenomicRanges object containing peaks\n",
    "# @param features_gr GenomicRanges object containing features (e.g. genes)\n",
    "# @param d distance to include peak, in bps (default 50000)\n",
    "# @param feat_anno column in `features_gr@elementMetadata` containing annotation to name features (if NULL converts Granges to string)\n",
    "#\n",
    "# @return Sparse adjacency matrix indicating hits\n",
    "peak2feature <- function(peaks_gr, features_gr, d=50000, feat_anno=NULL){\n",
    "  seqlevelsStyle(features_gr) <- seqlevelsStyle(peaks_gr)\n",
    "  \n",
    "  ## Find peaks overlapping the search range around the features\n",
    "  ext_gr <- extend(features_gr, upstream = d, downstream = d)\n",
    "  ovs <- findOverlaps(peaks_gr, ext_gr)\n",
    "  \n",
    "  ## Define identifiers for peaks and features\n",
    "  all_peaks <- GRangesToString(peaks_gr, sep = c(\":\", '-'))\n",
    "  if (is.null(feat_anno)) {\n",
    "    all_feats <- GRangesToString(features_gr, sep = c(\":\", '-'))\n",
    "  } else {\n",
    "    all_feats <- features_gr@elementMetadata[[feat_anno]]\n",
    "  }\n",
    "  \n",
    "  ## Build adjacency matrix for hits\n",
    "  adj_mat <- Matrix(data=0, nrow = length(all_peaks), ncol=length(all_feats))\n",
    "  for (i in unique(subjectHits(ovs))) {\n",
    "    # if (length(adj_mat[queryHits(ovs[subjectHits(ovs)==i]),i]) > 0) {\n",
    "    adj_mat[queryHits(ovs[subjectHits(ovs)==i]),i] <- 1\n",
    "    # }\n",
    "  }\n",
    "  colnames(adj_mat) <- all_feats\n",
    "  rownames(adj_mat) <- all_peaks\n",
    "  \n",
    "  adj_mat\n",
    "  \n",
    "}"
   ]
  },
  {
   "cell_type": "code",
   "execution_count": 10,
   "metadata": {},
   "outputs": [],
   "source": [
    "%%R  -i peaks -o adj_mat\n",
    "genes_gr <- genes(EnsDb.Hsapiens.v86)\n",
    "peaks_gr <- StringToGRanges(peaks, sep=c(\":\", \"-\"))\n",
    "\n",
    "## Compute peak2gene adjacency matrix\n",
    "adj_mat <- peak2feature(peaks_gr, genes_gr, feat_anno = \"gene_id\", d=50000)"
   ]
  },
  {
   "cell_type": "code",
   "execution_count": 31,
   "metadata": {},
   "outputs": [],
   "source": [
    "%%R -o genes\n",
    "genes <- colnames(adj_mat)"
   ]
  },
  {
   "cell_type": "code",
   "execution_count": 22,
   "metadata": {},
   "outputs": [],
   "source": [
    "## Convert sparse matrix w anndata2ri\n",
    "adj_mat = anndata2ri.r2py.rmat_to_spmat(adj_mat)"
   ]
  },
  {
   "cell_type": "markdown",
   "metadata": {},
   "source": [
    "We can store the adjacency matrix in the `.varm` slot of the anndata"
   ]
  },
  {
   "cell_type": "code",
   "execution_count": 32,
   "metadata": {},
   "outputs": [],
   "source": [
    "adata.varm[\"peak2gene\"] = adj_mat\n",
    "adata.uns[\"peak2gene_genes\"] = genes"
   ]
  },
  {
   "cell_type": "markdown",
   "metadata": {},
   "source": [
    "### Save anndata object"
   ]
  },
  {
   "cell_type": "code",
   "execution_count": 36,
   "metadata": {},
   "outputs": [],
   "source": [
    "adata.write_h5ad(outdir + experiment_prefix + \"_ATAC.wCisTopic.h5ad\")"
   ]
  }
 ],
 "metadata": {
  "kernelspec": {
   "display_name": "Python (emma_env)",
   "language": "python",
   "name": "emma_env"
  },
  "language_info": {
   "codemirror_mode": {
    "name": "ipython",
    "version": 3
   },
   "file_extension": ".py",
   "mimetype": "text/x-python",
   "name": "python",
   "nbconvert_exporter": "python",
   "pygments_lexer": "ipython3",
   "version": "3.7.8"
  }
 },
 "nbformat": 4,
 "nbformat_minor": 4
}
