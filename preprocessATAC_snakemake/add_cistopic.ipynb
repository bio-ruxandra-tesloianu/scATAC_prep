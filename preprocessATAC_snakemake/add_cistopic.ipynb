{
 "cells": [
  {
   "cell_type": "markdown",
   "metadata": {},
   "source": [
    "# Dimensionality reduction with cisTopic\n",
    "\n",
    "Using inline R magic"
   ]
  },
  {
   "cell_type": "code",
   "execution_count": 1,
   "metadata": {},
   "outputs": [],
   "source": [
    "import numpy as np\n",
    "import scanpy as sc \n",
    "import pandas as pd"
   ]
  },
  {
   "cell_type": "markdown",
   "metadata": {},
   "source": [
    "### r2py set-up"
   ]
  },
  {
   "cell_type": "code",
   "execution_count": 2,
   "metadata": {},
   "outputs": [],
   "source": [
    "import rpy2.rinterface_lib.callbacks\n",
    "import logging"
   ]
  },
  {
   "cell_type": "code",
   "execution_count": 3,
   "metadata": {},
   "outputs": [],
   "source": [
    "# Ignore R warning messages\n",
    "#Note: this can be commented out to get more verbose R output\n",
    "rpy2.rinterface_lib.callbacks.logger.setLevel(logging.ERROR)"
   ]
  },
  {
   "cell_type": "markdown",
   "metadata": {},
   "source": [
    "I use `anndata2ri` to handle conversion of the sparse matrix (not too straightforward with `rpy2` alone)"
   ]
  },
  {
   "cell_type": "code",
   "execution_count": 4,
   "metadata": {},
   "outputs": [],
   "source": [
    "import anndata2ri\n",
    "anndata2ri.activate()"
   ]
  },
  {
   "cell_type": "markdown",
   "metadata": {},
   "source": [
    "Loading the `rpy2` extension enables cell magic to be used. This runs R code in jupyter notebook cells."
   ]
  },
  {
   "cell_type": "code",
   "execution_count": 5,
   "metadata": {},
   "outputs": [],
   "source": [
    "%load_ext rpy2.ipython"
   ]
  },
  {
   "cell_type": "code",
   "execution_count": null,
   "metadata": {},
   "outputs": [
    {
     "name": "stdout",
     "output_type": "stream",
     "text": [
      "These packages have more recent versions available.\n",
      "It is recommended to update all of them.\n",
      "Which would you like to update?\n",
      "\n",
      " 1: All                                       \n",
      " 2: CRAN packages only                        \n",
      " 3: None                                      \n",
      " 4: matrixStats (0.56.0    -> 0.57.0  ) [CRAN]\n",
      " 5: R.methodsS3 (1.8.0     -> 1.8.1   ) [CRAN]\n",
      " 6: glue        (1.4.1     -> 1.4.2   ) [CRAN]\n",
      " 7: digest      (0.6.25    -> 0.6.27  ) [CRAN]\n",
      " 8: vctrs       (0.3.2     -> 0.3.5   ) [CRAN]\n",
      " 9: rlang       (0.4.7     -> 0.4.8   ) [CRAN]\n",
      "10: bit64       (4.0.2     -> 4.0.5   ) [CRAN]\n",
      "11: RSQLite     (2.2.0     -> 2.2.1   ) [CRAN]\n",
      "12: XML         (3.98-1.20 -> 3.99-0.3) [CRAN]\n",
      "13: pillar      (1.4.6     -> 1.4.7   ) [CRAN]\n",
      "14: magrittr    (1.5       -> 2.0.1   ) [CRAN]\n",
      "15: cli         (2.0.2     -> 2.2.0   ) [CRAN]\n",
      "16: withr       (2.2.0     -> 2.3.0   ) [CRAN]\n",
      "17: R6          (2.4.1     -> 2.5.0   ) [CRAN]\n",
      "18: jsonlite    (1.7.0     -> 1.7.1   ) [CRAN]\n",
      "19: R.oo        (1.23.0    -> 1.24.0  ) [CRAN]\n",
      "20: segmented   (1.2-0     -> 1.3-0   ) [CRAN]\n",
      "21: tibble      (3.0.3     -> 3.0.4   ) [CRAN]\n",
      "22: R.utils     (2.9.2     -> 2.10.1  ) [CRAN]\n",
      "23: data.table  (1.13.0    -> 1.13.2  ) [CRAN]\n",
      "\n"
     ]
    },
    {
     "name": "stdin",
     "output_type": "stream",
     "text": [
      "Enter one or more numbers, or an empty line to skip updates: \n"
     ]
    },
    {
     "name": "stdout",
     "output_type": "stream",
     "text": [
      "✔  checking for file ‘/tmp/RtmpS6oAq3/remotes4af49de9c87/aertslab-RcisTarget-fd09a60/DESCRIPTION’ (1.8s)\n",
      "─  preparing ‘RcisTarget’:\n",
      "✔  checking DESCRIPTION meta-information ...\n",
      "─  checking for LF line-endings in source and make files and shell scripts\n",
      "─  checking for empty or unneeded directories\n",
      "─  looking to see if a ‘data/datalist’ file should be added\n",
      "─  building ‘RcisTarget_1.9.2.tar.gz’ (2.6s)\n",
      "   \n",
      "These packages have more recent versions available.\n",
      "It is recommended to update all of them.\n",
      "Which would you like to update?\n",
      "\n",
      " 1: All                                       \n",
      " 2: CRAN packages only                        \n",
      " 3: None                                      \n",
      " 4: matrixStats (0.56.0    -> 0.57.0  ) [CRAN]\n",
      " 5: magrittr    (1.5       -> 2.0.1   ) [CRAN]\n",
      " 6: rlang       (0.4.7     -> 0.4.8   ) [CRAN]\n",
      " 7: R6          (2.4.1     -> 2.5.0   ) [CRAN]\n",
      " 8: digest      (0.6.25    -> 0.6.27  ) [CRAN]\n",
      " 9: R.methodsS3 (1.8.0     -> 1.8.1   ) [CRAN]\n",
      "10: glue        (1.4.1     -> 1.4.2   ) [CRAN]\n",
      "11: vctrs       (0.3.2     -> 0.3.5   ) [CRAN]\n",
      "12: bit64       (4.0.2     -> 4.0.5   ) [CRAN]\n",
      "13: RSQLite     (2.2.0     -> 2.2.1   ) [CRAN]\n",
      "14: XML         (3.98-1.20 -> 3.99-0.3) [CRAN]\n",
      "15: withr       (2.2.0     -> 2.3.0   ) [CRAN]\n",
      "16: jsonlite    (1.7.0     -> 1.7.1   ) [CRAN]\n",
      "17: R.oo        (1.23.0    -> 1.24.0  ) [CRAN]\n",
      "18: segmented   (1.2-0     -> 1.3-0   ) [CRAN]\n",
      "19: R.utils     (2.9.2     -> 2.10.1  ) [CRAN]\n",
      "20: data.table  (1.13.0    -> 1.13.2  ) [CRAN]\n",
      "\n"
     ]
    },
    {
     "name": "stdin",
     "output_type": "stream",
     "text": [
      "Enter one or more numbers, or an empty line to skip updates: \n"
     ]
    },
    {
     "name": "stdout",
     "output_type": "stream",
     "text": [
      "✔  checking for file ‘/tmp/RtmpS6oAq3/remotes4af4b0f3242/aertslab-AUCell-be87c73/DESCRIPTION’ (1.3s)\n",
      "─  preparing ‘AUCell’:\n",
      "✔  checking DESCRIPTION meta-information ...\n",
      "─  checking for LF line-endings in source and make files and shell scripts\n",
      "─  checking for empty or unneeded directories\n",
      "─  building ‘AUCell_1.13.0.tar.gz’\n",
      "   \n",
      "These packages have more recent versions available.\n",
      "It is recommended to update all of them.\n",
      "Which would you like to update?\n",
      "\n",
      " 1: All                                            \n",
      " 2: CRAN packages only                             \n",
      " 3: None                                           \n",
      " 4: matrixStats  (0.56.0      -> 0.57.0    ) [CRAN]\n",
      " 5: glue         (1.4.1       -> 1.4.2     ) [CRAN]\n",
      " 6: digest       (0.6.25      -> 0.6.27    ) [CRAN]\n",
      " 7: vctrs        (0.3.2       -> 0.3.5     ) [CRAN]\n",
      " 8: rlang        (0.4.7       -> 0.4.8     ) [CRAN]\n",
      " 9: colorspace   (1.4-1       -> 2.0-0     ) [CRAN]\n",
      "10: R6           (2.4.1       -> 2.5.0     ) [CRAN]\n",
      "11: labeling     (0.3         -> 0.4.2     ) [CRAN]\n",
      "12: pillar       (1.4.6       -> 1.4.7     ) [CRAN]\n",
      "13: tibble       (3.0.3       -> 3.0.4     ) [CRAN]\n",
      "14: rstudioapi   (0.11        -> 0.13      ) [CRAN]\n",
      "15: rprojroot    (1.3-2       -> 2.0.2     ) [CRAN]\n",
      "16: withr        (2.2.0       -> 2.3.0     ) [CRAN]\n",
      "17: waldo        (0.2.2       -> 0.2.3     ) [CRAN]\n",
      "18: ps           (1.3.4       -> 1.4.0     ) [CRAN]\n",
      "19: processx     (3.4.3       -> 3.4.4     ) [CRAN]\n",
      "20: magrittr     (1.5         -> 2.0.1     ) [CRAN]\n",
      "21: jsonlite     (1.7.0       -> 1.7.1     ) [CRAN]\n",
      "22: cli          (2.0.2       -> 2.2.0     ) [CRAN]\n",
      "23: callr        (3.4.3       -> 3.5.1     ) [CRAN]\n",
      "24: testthat     (2.3.2       -> 3.0.0     ) [CRAN]\n",
      "25: bit64        (4.0.2       -> 4.0.5     ) [CRAN]\n",
      "26: RSQLite      (2.2.0       -> 2.2.1     ) [CRAN]\n",
      "27: R.methodsS3  (1.8.0       -> 1.8.1     ) [CRAN]\n",
      "28: R.oo         (1.23.0      -> 1.24.0    ) [CRAN]\n",
      "29: segmented    (1.2-0       -> 1.3-0     ) [CRAN]\n",
      "30: XML          (3.98-1.20   -> 3.99-0.3  ) [CRAN]\n",
      "31: R.utils      (2.9.2       -> 2.10.1    ) [CRAN]\n",
      "32: data.table   (1.13.0      -> 1.13.2    ) [CRAN]\n",
      "33: iterators    (1.0.12      -> 1.0.13    ) [CRAN]\n",
      "34: RcppArmad... (0.9.900.2.0 -> 0.10.1.2.0) [CRAN]\n",
      "35: lgr          (0.3.4       -> 0.4.1     ) [CRAN]\n",
      "36: htmlwidgets  (1.5.1       -> 1.5.2     ) [CRAN]\n",
      "37: generics     (0.0.2       -> 0.1.0     ) [CRAN]\n",
      "38: foreach      (1.5.0       -> 1.5.1     ) [CRAN]\n",
      "39: stringi      (1.4.6       -> 1.5.3     ) [CRAN]\n",
      "40: DT           (0.15        -> 0.16      ) [CRAN]\n",
      "41: doSNOW       (1.0.18      -> 1.0.19    ) [CRAN]\n",
      "\n"
     ]
    },
    {
     "name": "stdin",
     "output_type": "stream",
     "text": [
      "Enter one or more numbers, or an empty line to skip updates: \n"
     ]
    },
    {
     "name": "stdout",
     "output_type": "stream",
     "text": [
      "✔  checking for file ‘/tmp/RtmpS6oAq3/remotes4af1e271fd6/aertslab-cisTopic-4ae8599/DESCRIPTION’ (1.3s)\n",
      "─  preparing ‘cisTopic’:\n",
      "✔  checking DESCRIPTION meta-information ...\n",
      "─  checking for LF line-endings in source and make files and shell scripts\n",
      "─  checking for empty or unneeded directories\n",
      "─  looking to see if a ‘data/datalist’ file should be added\n",
      "─  building ‘cisTopic_0.3.0.tar.gz’ (11s)\n",
      "\r"
     ]
    }
   ],
   "source": [
    "%%R\n",
    "## Install dependencies\n",
    "devtools::install_github(\"aertslab/RcisTarget\")\n",
    "devtools::install_github(\"aertslab/AUCell\")\n",
    "        \n",
    "devtools::install_github(\"aertslab/cisTopic\")\n",
    "library(cisTopic)"
   ]
  },
  {
   "cell_type": "markdown",
   "metadata": {},
   "source": [
    "### Load data"
   ]
  },
  {
   "cell_type": "code",
   "execution_count": 6,
   "metadata": {},
   "outputs": [],
   "source": [
    "outdir = \"/home/jovyan/data/lung_adult_scATAC/\"\n",
    "experiment_prefix = 'lungAdult_'"
   ]
  },
  {
   "cell_type": "code",
   "execution_count": 7,
   "metadata": {},
   "outputs": [],
   "source": [
    "adata = sc.read_h5ad(outdir + experiment_prefix + '_ATAC_raw.h5ad')"
   ]
  },
  {
   "cell_type": "markdown",
   "metadata": {},
   "source": [
    "### Set-up for cisTopic"
   ]
  },
  {
   "cell_type": "markdown",
   "metadata": {},
   "source": [
    "Convert `anndata` object to `SingleCellExperiment` (conversion takes a while)"
   ]
  },
  {
   "cell_type": "code",
   "execution_count": 9,
   "metadata": {},
   "outputs": [],
   "source": [
    "adata.X = adata.layers[\"binary_raw\"]"
   ]
  },
  {
   "cell_type": "code",
   "execution_count": 10,
   "metadata": {},
   "outputs": [
    {
     "name": "stdout",
     "output_type": "stream",
     "text": [
      "class: SingleCellExperiment \n",
      "dim: 96161 57992 \n",
      "metadata(0):\n",
      "assays(2): X binary_raw\n",
      "rownames(96161): chr1:816942-817444 chr1:826600-827805 ...\n",
      "  chrY:21574860-21575895 chrY:22366897-22367799\n",
      "rowData names(15): peak_width exon ... total_counts log1p_total_counts\n",
      "colnames(57992): 59-AAACGAAAGATATGAC-1 59-AAACGAAAGGTAGGAA-1 ...\n",
      "  04-TTTGTGTTCGGATAGG-1 04-TTTGTGTTCTCGTAGA-1\n",
      "colData names(1): cellatac_clusters\n",
      "reducedDimNames(0):\n",
      "spikeNames(0):\n",
      "altExpNames(0):\n"
     ]
    }
   ],
   "source": [
    "%%R -i adata\n",
    "adata"
   ]
  },
  {
   "cell_type": "code",
   "execution_count": 11,
   "metadata": {},
   "outputs": [
    {
     "name": "stdout",
     "output_type": "stream",
     "text": [
      "\n",
      "Error in library(cistopic) : there is no package called ‘cistopic’\n"
     ]
    }
   ],
   "source": [
    "%%R\n",
    "library(cistopic)\n",
    "library(Matrix)\n",
    "\n",
    "assays(adata, \"X\")"
   ]
  },
  {
   "cell_type": "code",
   "execution_count": null,
   "metadata": {},
   "outputs": [],
   "source": []
  },
  {
   "cell_type": "code",
   "execution_count": null,
   "metadata": {},
   "outputs": [],
   "source": [
    "# Initialize cisTopic object \n",
    "cisTopicObject <- createcisTopicObject(adata, project.name='ATAC_cisTopic')"
   ]
  }
 ],
 "metadata": {
  "kernelspec": {
   "display_name": "Python (emma_env)",
   "language": "python",
   "name": "emma_env"
  },
  "language_info": {
   "codemirror_mode": {
    "name": "ipython",
    "version": 3
   },
   "file_extension": ".py",
   "mimetype": "text/x-python",
   "name": "python",
   "nbconvert_exporter": "python",
   "pygments_lexer": "ipython3",
   "version": "3.7.8"
  }
 },
 "nbformat": 4,
 "nbformat_minor": 4
}
